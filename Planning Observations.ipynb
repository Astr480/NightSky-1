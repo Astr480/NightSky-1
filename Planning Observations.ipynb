{
 "cells": [
  {
   "cell_type": "code",
   "execution_count": 11,
   "metadata": {},
   "outputs": [],
   "source": [
    "%matplotlib inline\n",
    "import matplotlib.pyplot as plt\n",
    "import numpy as np\n",
    "import pandas as pd\n",
    "import astropy.units as u\n",
    "from astropy.time import Time\n",
    "import pytz\n",
    "import astropy\n",
    "from astropy.coordinates import SkyCoord\n",
    "from astroplan import Observer, FixedTarget, observability_table, Constraint\n",
    "from astropy.coordinates import get_sun, get_body, get_moon\n",
    "from astroplan import moon_illumination\n",
    "from astroplan import *\n",
    "from astroplan import download_IERS_A\n",
    "download_IERS_A()"
   ]
  },
  {
   "cell_type": "markdown",
   "metadata": {},
   "source": [
    "# Setup"
   ]
  },
  {
   "cell_type": "code",
   "execution_count": 12,
   "metadata": {},
   "outputs": [],
   "source": [
    "# Set up the location of observatory\n",
    "palomar = Observer.at_site('Palomar')"
   ]
  },
  {
   "cell_type": "markdown",
   "metadata": {},
   "source": [
    "We get the dataset from https://www.cosmos.esa.int/web/hipparcos/sample-tables-1"
   ]
  },
  {
   "cell_type": "code",
   "execution_count": 13,
   "metadata": {},
   "outputs": [],
   "source": [
    "data = pd.read_csv('data2.csv')"
   ]
  },
  {
   "cell_type": "code",
   "execution_count": 14,
   "metadata": {},
   "outputs": [],
   "source": [
    "#Pick out the objects having names\n",
    "mask = list()\n",
    "for n in range(len(data['Name'])):\n",
    "    if(isinstance(data['Name'][n],str)):\n",
    "        mask.append(True)\n",
    "    else:\n",
    "        mask.append(False)\n",
    "data[mask].to_csv('hipparcos.csv')"
   ]
  },
  {
   "cell_type": "code",
   "execution_count": 15,
   "metadata": {},
   "outputs": [],
   "source": [
    "star_table = pd.read_csv('hipparcos.csv')"
   ]
  },
  {
   "cell_type": "code",
   "execution_count": 16,
   "metadata": {},
   "outputs": [],
   "source": [
    "#Set the observing window\n",
    "obs_dates = list()\n",
    "for i in range(15,31):\n",
    "    date = \"2019-10-\" + str(i)\n",
    "    time = Time(date)\n",
    "    obs_dates.append(time)"
   ]
  },
  {
   "cell_type": "markdown",
   "metadata": {},
   "source": [
    "# Visibility"
   ]
  },
  {
   "cell_type": "code",
   "execution_count": 17,
   "metadata": {},
   "outputs": [],
   "source": [
    "#Complie a list of all defined objects\n",
    "stars = list()\n",
    "for s in range(len(star_table['Name'])):\n",
    "    coords = SkyCoord(star_table['ra (deg)'][s]*u.deg, \n",
    "                      star_table['dec (deg)'][i]*u.deg, \n",
    "                      frame='icrs')\n",
    "    stars.append(FixedTarget(name=star_table['Name'][s], coord=coords))"
   ]
  },
  {
   "cell_type": "markdown",
   "metadata": {},
   "source": [
    "#Create an observability table"
   ]
  },
  {
   "cell_type": "code",
   "execution_count": 18,
   "metadata": {},
   "outputs": [],
   "source": [
    "time = Time([\"2019-10-15 00:00\", \"2019-10-30 23:59\"])"
   ]
  },
  {
   "cell_type": "code",
   "execution_count": 19,
   "metadata": {},
   "outputs": [],
   "source": [
    "#The moon's illumination values are from: https://www.calendar-12.com/moon_calendar/2019/october\n",
    "constraint = [AltitudeConstraint(30*u.deg, 90*u.deg),AirmassConstraint(2), \n",
    "              AtNightConstraint.twilight_civil(),MoonIlluminationConstraint(0.4)]"
   ]
  },
  {
   "cell_type": "code",
   "execution_count": 20,
   "metadata": {},
   "outputs": [
    {
     "data": {
      "text/html": [
       "<i>Table length=39</i>\n",
       "<table id=\"table4873417952\" class=\"table-striped table-bordered table-condensed\">\n",
       "<thead><tr><th>target name</th><th>ever observable</th><th>always observable</th><th>fraction of time observable</th></tr></thead>\n",
       "<thead><tr><th>str14</th><th>bool</th><th>bool</th><th>float64</th></tr></thead>\n",
       "<tr><td>alpha_Cen_C</td><td>True</td><td>False</td><td>0.00390625</td></tr>\n",
       "<tr><td>alpha^2_Cen</td><td>True</td><td>False</td><td>0.00390625</td></tr>\n",
       "<tr><td>alpha^1_Cen</td><td>True</td><td>False</td><td>0.00390625</td></tr>\n",
       "<tr><td>Barnard&apos;s_star</td><td>True</td><td>False</td><td>0.040364583333333336</td></tr>\n",
       "<tr><td>alpha_CMa</td><td>True</td><td>False</td><td>0.1328125</td></tr>\n",
       "<tr><td>epsilon_Eri</td><td>True</td><td>False</td><td>0.16927083333333334</td></tr>\n",
       "<tr><td>61_Cyg_A</td><td>True</td><td>False</td><td>0.10026041666666667</td></tr>\n",
       "<tr><td>alpha_CMi</td><td>True</td><td>False</td><td>0.1171875</td></tr>\n",
       "<tr><td>61_Cyg_B</td><td>True</td><td>False</td><td>0.10026041666666667</td></tr>\n",
       "<tr><td>epsilon_Ind</td><td>True</td><td>False</td><td>0.11979166666666667</td></tr>\n",
       "<tr><td>...</td><td>...</td><td>...</td><td>...</td></tr>\n",
       "<tr><td>pi^3_Ori</td><td>True</td><td>False</td><td>0.15625</td></tr>\n",
       "<tr><td>chi_Dra</td><td>True</td><td>False</td><td>0.045572916666666664</td></tr>\n",
       "<tr><td>p_Eri</td><td>True</td><td>False</td><td>0.17317708333333334</td></tr>\n",
       "<tr><td>beta_CVn</td><td>True</td><td>False</td><td>0.020833333333333332</td></tr>\n",
       "<tr><td>mu_Her</td><td>True</td><td>False</td><td>0.037760416666666664</td></tr>\n",
       "<tr><td>61_Vir</td><td>True</td><td>False</td><td>0.0078125</td></tr>\n",
       "<tr><td>zeta_Tuc</td><td>True</td><td>False</td><td>0.16145833333333334</td></tr>\n",
       "<tr><td>chi^1_Ori</td><td>True</td><td>False</td><td>0.14322916666666666</td></tr>\n",
       "<tr><td>gamma_Lep</td><td>True</td><td>False</td><td>0.14713541666666666</td></tr>\n",
       "<tr><td>delta_Eri</td><td>True</td><td>False</td><td>0.16666666666666666</td></tr>\n",
       "</table>"
      ],
      "text/plain": [
       "<Table length=39>\n",
       " target name   ever observable always observable fraction of time observable\n",
       "    str14            bool             bool                 float64          \n",
       "-------------- --------------- ----------------- ---------------------------\n",
       "   alpha_Cen_C            True             False                  0.00390625\n",
       "   alpha^2_Cen            True             False                  0.00390625\n",
       "   alpha^1_Cen            True             False                  0.00390625\n",
       "Barnard's_star            True             False        0.040364583333333336\n",
       "     alpha_CMa            True             False                   0.1328125\n",
       "   epsilon_Eri            True             False         0.16927083333333334\n",
       "      61_Cyg_A            True             False         0.10026041666666667\n",
       "     alpha_CMi            True             False                   0.1171875\n",
       "      61_Cyg_B            True             False         0.10026041666666667\n",
       "   epsilon_Ind            True             False         0.11979166666666667\n",
       "           ...             ...               ...                         ...\n",
       "      pi^3_Ori            True             False                     0.15625\n",
       "       chi_Dra            True             False        0.045572916666666664\n",
       "         p_Eri            True             False         0.17317708333333334\n",
       "      beta_CVn            True             False        0.020833333333333332\n",
       "        mu_Her            True             False        0.037760416666666664\n",
       "        61_Vir            True             False                   0.0078125\n",
       "      zeta_Tuc            True             False         0.16145833333333334\n",
       "     chi^1_Ori            True             False         0.14322916666666666\n",
       "     gamma_Lep            True             False         0.14713541666666666\n",
       "     delta_Eri            True             False         0.16666666666666666"
      ]
     },
     "execution_count": 20,
     "metadata": {},
     "output_type": "execute_result"
    }
   ],
   "source": [
    "observability_table(observer = palomar,\n",
    "                    constraints = constraint,\n",
    "                    targets = stars,\n",
    "                    time_range = time)"
   ]
  },
  {
   "cell_type": "code",
   "execution_count": null,
   "metadata": {},
   "outputs": [],
   "source": []
  },
  {
   "cell_type": "code",
   "execution_count": null,
   "metadata": {},
   "outputs": [],
   "source": []
  },
  {
   "cell_type": "code",
   "execution_count": null,
   "metadata": {},
   "outputs": [],
   "source": []
  }
 ],
 "metadata": {
  "kernelspec": {
   "display_name": "Python 3",
   "language": "python",
   "name": "python3"
  },
  "language_info": {
   "codemirror_mode": {
    "name": "ipython",
    "version": 3
   },
   "file_extension": ".py",
   "mimetype": "text/x-python",
   "name": "python",
   "nbconvert_exporter": "python",
   "pygments_lexer": "ipython3",
   "version": "3.7.1"
  }
 },
 "nbformat": 4,
 "nbformat_minor": 2
}
